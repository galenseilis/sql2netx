{
 "cells": [
  {
   "cell_type": "code",
   "execution_count": 115,
   "id": "6389d8f5",
   "metadata": {},
   "outputs": [],
   "source": [
    "from typing import NoReturn\n",
    "\n",
    "import networkx as nx\n",
    "import sqlglot\n",
    "from sqlglot.expressions import Join, Table, Column\n",
    "\n",
    "def clean_join_str(s: str):\n",
    "    s.replace('')\n",
    "\n",
    "class SQLJoinNet:\n",
    "    \"\"\"Network analysis of joins in SQL queries.\"\"\"\n",
    "\n",
    "    def __int__(self, dialect: str = None) -> NoReturn:\n",
    "        self.multidigraph = nx.MultiDigraph()\n",
    "\n",
    "    def fit(self, sql_str) -> NoReturn:\n",
    "        \"\"\"Learn network structure of joins.\"\"\"\n",
    "        raise NotImplementedError\n",
    "\n",
    "        parsed_queries = sqlglot.parse(sql_str)\n",
    "        \n",
    "        for query in parsed_queries:\n",
    "            for table_str in query.find_all(Table):\n",
    "                self.multidigraph.add_node(table_str)\n",
    "        \n",
    "            for join_str in query.find_all(Join):\n",
    "                ...\n",
    "        \n",
    "    def steiner(self, targets: list[str] = None):\n",
    "        \"\"\"Find a Steiner tree for a set of target attributes.\"\"\"\n",
    "        # TODO: Need to handle multiple edges.\n",
    "        # TODO: Decide on rules for choosing weights.\n",
    "        raise NotImplementedError\n",
    "\n",
    "        if targets is not None:\n",
    "            ...\n",
    "            "
   ]
  },
  {
   "cell_type": "code",
   "execution_count": 56,
   "id": "0a5e99ef",
   "metadata": {},
   "outputs": [],
   "source": [
    "import re\n",
    "\n",
    "def extract_tables_from_join(join_condition):\n",
    "    # Define a regular expression pattern for matching joins\n",
    "    join_pattern = re.compile(r'JOIN\\s+(\\w+)\\s+ON\\s+(\\w+\\.\\w+)\\s*=\\s*(\\w+\\.\\w+)')\n",
    "\n",
    "    # Use the regular expression to find matches\n",
    "    match = join_pattern.search(join_condition)\n",
    "\n",
    "    if match:\n",
    "        # Extract table names and column names from the matched groups\n",
    "        table1, table2, column1, column2 = match.groups()\n",
    "        return table1, table2, column1, column2\n",
    "    else:\n",
    "        return None"
   ]
  },
  {
   "cell_type": "code",
   "execution_count": 11,
   "id": "69c39ff5",
   "metadata": {},
   "outputs": [],
   "source": [
    "def read_file(file):\n",
    "        with open(file, 'r') as f:\n",
    "            return f.read()"
   ]
  },
  {
   "cell_type": "code",
   "execution_count": 2,
   "id": "ccfb51a3",
   "metadata": {},
   "outputs": [],
   "source": [
    "import glob"
   ]
  },
  {
   "cell_type": "code",
   "execution_count": 51,
   "id": "2b4ccf69",
   "metadata": {},
   "outputs": [],
   "source": [
    "files = sorted(glob.glob('*.sql'))"
   ]
  },
  {
   "cell_type": "code",
   "execution_count": 10,
   "id": "472dce1f",
   "metadata": {},
   "outputs": [],
   "source": [
    "mdigraph = nx.MultiDiGraph()"
   ]
  },
  {
   "cell_type": "code",
   "execution_count": 95,
   "id": "e8f76f4a",
   "metadata": {},
   "outputs": [
    {
     "data": {
      "text/plain": [
       "'SELECT employees.employee_id, employees.first_name, employees.last_name, departments.department_name, salaries.salary\\nFROM employees\\nJOIN departments ON employees.department_id = departments.department_id\\nJOIN salaries ON employees.employee_id = salaries.employee_id;\\n\\n'"
      ]
     },
     "execution_count": 95,
     "metadata": {},
     "output_type": "execute_result"
    }
   ],
   "source": [
    "str_query = read_file(files[4])\n",
    "str_query"
   ]
  },
  {
   "cell_type": "code",
   "execution_count": 76,
   "id": "9b0bda2e",
   "metadata": {},
   "outputs": [],
   "source": [
    "parsed_queries = sqlglot.parse(str_query)"
   ]
  },
  {
   "cell_type": "code",
   "execution_count": 118,
   "id": "accc09c2",
   "metadata": {},
   "outputs": [
    {
     "name": "stdout",
     "output_type": "stream",
     "text": [
      "['department_id', 'department_id']\n",
      "departments\n",
      "['employee_id', 'employee_id']\n",
      "salaries\n"
     ]
    }
   ],
   "source": [
    "for parsed_query in parsed_queries:\n",
    "    for join_exp in parsed_query.find_all(Join):\n",
    "        print([i.name for i in join_exp.find_all(Column)])\n",
    "        for tab_exp in join_exp.find_all(Table):\n",
    "            print(tab_exp)"
   ]
  },
  {
   "cell_type": "code",
   "execution_count": 99,
   "id": "c7947bfe",
   "metadata": {},
   "outputs": [
    {
     "data": {
      "text/plain": [
       "['employees', 'departments', 'salaries']"
      ]
     },
     "execution_count": 99,
     "metadata": {},
     "output_type": "execute_result"
    }
   ],
   "source": [
    "[expression.name for expression in parsed_query.find_all(Table)]"
   ]
  },
  {
   "cell_type": "raw",
   "id": "1fcba762",
   "metadata": {},
   "source": [
    "parsed_query"
   ]
  },
  {
   "cell_type": "code",
   "execution_count": 111,
   "id": "24b72ea7",
   "metadata": {},
   "outputs": [
    {
     "data": {
      "text/plain": [
       "['employees', 'departments', 'salaries']"
      ]
     },
     "execution_count": 111,
     "metadata": {},
     "output_type": "execute_result"
    }
   ],
   "source": [
    "[i.name for i in join_exp.parent.find_all(Table)]"
   ]
  },
  {
   "cell_type": "code",
   "execution_count": 117,
   "id": "33755d46",
   "metadata": {},
   "outputs": [
    {
     "data": {
      "text/plain": [
       "['employee_id', 'employee_id']"
      ]
     },
     "execution_count": 117,
     "metadata": {},
     "output_type": "execute_result"
    }
   ],
   "source": [
    "[i.name for i in join_exp.find_all(Column)]"
   ]
  },
  {
   "cell_type": "code",
   "execution_count": null,
   "id": "1f7fa2a1",
   "metadata": {},
   "outputs": [],
   "source": []
  }
 ],
 "metadata": {
  "kernelspec": {
   "display_name": "Python 3 (ipykernel)",
   "language": "python",
   "name": "python3"
  },
  "language_info": {
   "codemirror_mode": {
    "name": "ipython",
    "version": 3
   },
   "file_extension": ".py",
   "mimetype": "text/x-python",
   "name": "python",
   "nbconvert_exporter": "python",
   "pygments_lexer": "ipython3",
   "version": "3.10.12"
  }
 },
 "nbformat": 4,
 "nbformat_minor": 5
}
