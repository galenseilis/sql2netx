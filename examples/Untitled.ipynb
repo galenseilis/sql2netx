{
 "cells": [
  {
   "cell_type": "code",
   "execution_count": 12,
   "id": "4183170d",
   "metadata": {},
   "outputs": [],
   "source": [
    "import glob\n",
    "from typing import NoReturn\n",
    "\n",
    "import networkx as nx\n",
    "import sqlglot\n",
    "from sqlglot import exp\n",
    "from sqlglot.optimizer.scope import build_scope\n",
    "from sqlglot.optimizer.qualify import qualify\n",
    "from sqlglot.expressions import Join, Table, Column\n",
    "\n",
    "def clean_join_str(s: str):\n",
    "    s.replace('')\n",
    "\n",
    "class SQLJoinNet:\n",
    "    \"\"\"Network analysis of joins in SQL queries.\"\"\"\n",
    "\n",
    "    def __int__(self, dialect: str = None) -> NoReturn:\n",
    "        self.multidigraph = nx.MultiDigraph()\n",
    "\n",
    "    def fit(self, sql_str) -> NoReturn:\n",
    "        \"\"\"Learn network structure of joins.\"\"\"\n",
    "        raise NotImplementedError\n",
    "\n",
    "        parsed_queries = sqlglot.parse(sql_str)\n",
    "        \n",
    "        for query in parsed_queries:\n",
    "            for table_str in query.find_all(Table):\n",
    "                self.multidigraph.add_node(table_str)\n",
    "        \n",
    "            for join_str in query.find_all(Join):\n",
    "                ...\n",
    "        \n",
    "    def steiner(self, targets: list[str] = None):\n",
    "        \"\"\"Find a Steiner tree for a set of target attributes.\"\"\"\n",
    "        # TODO: Need to handle multiple edges.\n",
    "        # TODO: Decide on rules for choosing weights.\n",
    "        raise NotImplementedError\n",
    "\n",
    "        if targets is not None:\n",
    "            ...\n",
    "            "
   ]
  },
  {
   "cell_type": "code",
   "execution_count": 3,
   "id": "3c3b87f6",
   "metadata": {},
   "outputs": [],
   "source": [
    "def read_file(file):\n",
    "        with open(file, 'r') as f:\n",
    "            return f.read()"
   ]
  },
  {
   "cell_type": "code",
   "execution_count": 5,
   "id": "01acb993",
   "metadata": {},
   "outputs": [
    {
     "data": {
      "text/plain": [
       "'12_example.sql'"
      ]
     },
     "execution_count": 5,
     "metadata": {},
     "output_type": "execute_result"
    }
   ],
   "source": [
    "files = sorted(glob.glob('*.sql'))\n",
    "files[11]"
   ]
  },
  {
   "cell_type": "code",
   "execution_count": 14,
   "id": "2064d2a3",
   "metadata": {},
   "outputs": [],
   "source": [
    "str_query = read_file(files[12])"
   ]
  },
  {
   "cell_type": "code",
   "execution_count": 15,
   "id": "20a2b603",
   "metadata": {},
   "outputs": [],
   "source": [
    "ast = sqlglot.parse_one(str_query)"
   ]
  },
  {
   "cell_type": "code",
   "execution_count": 16,
   "id": "bf64ec6c",
   "metadata": {},
   "outputs": [],
   "source": [
    "root = build_scope(qualify(ast))\n",
    "\n",
    "tables = [\n",
    "    source.name\n",
    "    for scope in root.traverse()\n",
    "    for alias, (node, source) in (\n",
    "        scope\n",
    "        .selected_sources\n",
    "        .items()\n",
    "    )\n",
    "    if isinstance(source, exp.Table)\n",
    "]"
   ]
  },
  {
   "cell_type": "code",
   "execution_count": 17,
   "id": "a2116283",
   "metadata": {},
   "outputs": [
    {
     "name": "stdout",
     "output_type": "stream",
     "text": [
      "JOIN \"departments\" AS \"d\" ON \"e\".\"department_id\" = \"d\".\"department_id\" \"departments\" AS \"d\"\n",
      "FROM \"customers\" AS \"c\" \"customers\" AS \"c\"\n",
      "JOIN \"orders\" AS \"o\" ON \"c\".\"customer_id\" = \"o\".\"customer_id\" \"orders\" AS \"o\"\n"
     ]
    }
   ],
   "source": [
    "for join_exp in root.find_all(exp.Join):\n",
    "    for j in join_exp.find_all(exp.Table):\n",
    "        print(j.parent, j)"
   ]
  },
  {
   "cell_type": "code",
   "execution_count": 18,
   "id": "390211b8",
   "metadata": {},
   "outputs": [
    {
     "data": {
      "text/plain": [
       "[]"
      ]
     },
     "execution_count": 18,
     "metadata": {},
     "output_type": "execute_result"
    }
   ],
   "source": [
    "joins = [\n",
    "    source.name\n",
    "    for scope in root.traverse()\n",
    "    for alias, (node, source) in (\n",
    "        scope\n",
    "        .selected_sources\n",
    "        .items()\n",
    "    )\n",
    "    if isinstance(source, exp.Join)\n",
    "]\n",
    "joins"
   ]
  },
  {
   "cell_type": "code",
   "execution_count": null,
   "id": "5c3135b3",
   "metadata": {},
   "outputs": [],
   "source": []
  }
 ],
 "metadata": {
  "kernelspec": {
   "display_name": "Python 3 (ipykernel)",
   "language": "python",
   "name": "python3"
  },
  "language_info": {
   "codemirror_mode": {
    "name": "ipython",
    "version": 3
   },
   "file_extension": ".py",
   "mimetype": "text/x-python",
   "name": "python",
   "nbconvert_exporter": "python",
   "pygments_lexer": "ipython3",
   "version": "3.10.12"
  }
 },
 "nbformat": 4,
 "nbformat_minor": 5
}
