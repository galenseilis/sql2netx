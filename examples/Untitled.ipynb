{
 "cells": [
  {
   "cell_type": "code",
   "execution_count": 115,
   "id": "744a6208",
   "metadata": {},
   "outputs": [],
   "source": [
    "from typing import NoReturn\n",
    "\n",
    "import networkx as nx\n",
    "import sqlglot\n",
    "from sqlglot.expressions import Join, Table, Column\n",
    "\n",
    "def clean_join_str(s: str):\n",
    "    s.replace('')\n",
    "\n",
    "class SQLJoinNet:\n",
    "    \"\"\"Network analysis of joins in SQL queries.\"\"\"\n",
    "\n",
    "    def __int__(self, dialect: str = None) -> NoReturn:\n",
    "        self.multidigraph = nx.MultiDigraph()\n",
    "\n",
    "    def fit(self, sql_str) -> NoReturn:\n",
    "        \"\"\"Learn network structure of joins.\"\"\"\n",
    "        raise NotImplementedError\n",
    "\n",
    "        parsed_queries = sqlglot.parse(sql_str)\n",
    "        \n",
    "        for query in parsed_queries:\n",
    "            for table_str in query.find_all(Table):\n",
    "                self.multidigraph.add_node(table_str)\n",
    "        \n",
    "            for join_str in query.find_all(Join):\n",
    "                ...\n",
    "        \n",
    "    def steiner(self, targets: list[str] = None):\n",
    "        \"\"\"Find a Steiner tree for a set of target attributes.\"\"\"\n",
    "        # TODO: Need to handle multiple edges.\n",
    "        # TODO: Decide on rules for choosing weights.\n",
    "        raise NotImplementedError\n",
    "\n",
    "        if targets is not None:\n",
    "            ...\n",
    "            "
   ]
  },
  {
   "cell_type": "code",
   "execution_count": 56,
   "id": "cdd41b86",
   "metadata": {},
   "outputs": [],
   "source": [
    "import re\n",
    "\n",
    "def extract_tables_from_join(join_condition):\n",
    "    # Define a regular expression pattern for matching joins\n",
    "    join_pattern = re.compile(r'JOIN\\s+(\\w+)\\s+ON\\s+(\\w+\\.\\w+)\\s*=\\s*(\\w+\\.\\w+)')\n",
    "\n",
    "    # Use the regular expression to find matches\n",
    "    match = join_pattern.search(join_condition)\n",
    "\n",
    "    if match:\n",
    "        # Extract table names and column names from the matched groups\n",
    "        table1, table2, column1, column2 = match.groups()\n",
    "        return table1, table2, column1, column2\n",
    "    else:\n",
    "        return None"
   ]
  },
  {
   "cell_type": "code",
   "execution_count": 11,
   "id": "635dd4eb",
   "metadata": {},
   "outputs": [],
   "source": [
    "def read_file(file):\n",
    "        with open(file, 'r') as f:\n",
    "            return f.read()"
   ]
  },
  {
   "cell_type": "code",
   "execution_count": 2,
   "id": "8068d2a0",
   "metadata": {},
   "outputs": [],
   "source": [
    "import glob"
   ]
  },
  {
   "cell_type": "code",
   "execution_count": 51,
   "id": "abcb9ee5",
   "metadata": {},
   "outputs": [],
   "source": [
    "files = sorted(glob.glob('*.sql'))"
   ]
  },
  {
   "cell_type": "code",
   "execution_count": 10,
   "id": "6464af82",
   "metadata": {},
   "outputs": [],
   "source": [
    "mdigraph = nx.MultiDiGraph()"
   ]
  },
  {
   "cell_type": "code",
   "execution_count": 120,
   "id": "39231db6",
   "metadata": {},
   "outputs": [
    {
     "data": {
      "text/plain": [
       "'WITH MonthlySales AS (\\n    SELECT\\n        customer_id,\\n        MONTH(order_date) AS order_month,\\n        SUM(order_amount) AS total_sales\\n    FROM orders\\n    GROUP BY customer_id, order_month\\n)\\n\\nSELECT\\n    c.customer_id,\\n    c.customer_name,\\n    ms.order_month,\\n    ms.total_sales\\nFROM customers AS c\\nJOIN MonthlySales AS ms ON c.customer_id = ms.customer_id\\nWHERE ms.total_sales > 500;\\n\\n'"
      ]
     },
     "execution_count": 120,
     "metadata": {},
     "output_type": "execute_result"
    }
   ],
   "source": [
    "str_query = read_file(files[11])\n",
    "str_query"
   ]
  },
  {
   "cell_type": "code",
   "execution_count": 121,
   "id": "6f2ec594",
   "metadata": {},
   "outputs": [],
   "source": [
    "parsed_queries = sqlglot.parse(str_query)"
   ]
  },
  {
   "cell_type": "code",
   "execution_count": 125,
   "id": "cab6708e",
   "metadata": {},
   "outputs": [
    {
     "name": "stdout",
     "output_type": "stream",
     "text": [
      "['customer_id', 'customer_id']\n",
      "MonthlySales AS ms\n"
     ]
    }
   ],
   "source": [
    "for parsed_query in parsed_queries:\n",
    "    for join_exp in parsed_query.find_all(Join):\n",
    "        print([i.name for i in join_exp.find_all(Column)])\n",
    "        for tab_exp in join_exp.find_all(Table):\n",
    "            print(tab_exp)"
   ]
  },
  {
   "cell_type": "code",
   "execution_count": 99,
   "id": "5d9a57b1",
   "metadata": {},
   "outputs": [
    {
     "data": {
      "text/plain": [
       "['employees', 'departments', 'salaries']"
      ]
     },
     "execution_count": 99,
     "metadata": {},
     "output_type": "execute_result"
    }
   ],
   "source": [
    "[expression.name for expression in parsed_query.find_all(Table)]"
   ]
  },
  {
   "cell_type": "raw",
   "id": "afc58507",
   "metadata": {},
   "source": [
    "parsed_query"
   ]
  },
  {
   "cell_type": "code",
   "execution_count": 111,
   "id": "4fb9ae87",
   "metadata": {},
   "outputs": [
    {
     "data": {
      "text/plain": [
       "['employees', 'departments', 'salaries']"
      ]
     },
     "execution_count": 111,
     "metadata": {},
     "output_type": "execute_result"
    }
   ],
   "source": [
    "[i.name for i in join_exp.parent.find_all(Table)]"
   ]
  },
  {
   "cell_type": "code",
   "execution_count": 117,
   "id": "e6cfd934",
   "metadata": {},
   "outputs": [
    {
     "data": {
      "text/plain": [
       "['employee_id', 'employee_id']"
      ]
     },
     "execution_count": 117,
     "metadata": {},
     "output_type": "execute_result"
    }
   ],
   "source": [
    "[i.name for i in join_exp.find_all(Column)]"
   ]
  },
  {
   "cell_type": "code",
   "execution_count": null,
   "id": "e40a6c9c",
   "metadata": {},
   "outputs": [],
   "source": []
  }
 ],
 "metadata": {
  "kernelspec": {
   "display_name": "Python 3 (ipykernel)",
   "language": "python",
   "name": "python3"
  },
  "language_info": {
   "codemirror_mode": {
    "name": "ipython",
    "version": 3
   },
   "file_extension": ".py",
   "mimetype": "text/x-python",
   "name": "python",
   "nbconvert_exporter": "python",
   "pygments_lexer": "ipython3",
   "version": "3.10.12"
  }
 },
 "nbformat": 4,
 "nbformat_minor": 5
}
